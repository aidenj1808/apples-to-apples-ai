{
 "cells": [
  {
   "cell_type": "code",
   "execution_count": 12,
   "id": "958c28e2-6aa8-46d0-84c0-58473a09a3b2",
   "metadata": {},
   "outputs": [],
   "source": [
    "cards = {}\n",
    "with open(\"all_green_cards.csv\") as file:\n",
    "    file.readline()\n",
    "    for line in file:\n",
    "        data = line.strip().split(\",\", 2)\n",
    "        if data[0] != \"party_set\":\n",
    "            break\n",
    "        cards.update({data[1]: \"g\"})\n",
    "\n",
    "with open(\"all_red_cards.csv\") as file:\n",
    "    file.readline()\n",
    "    for line in file:\n",
    "        data = line.strip().split(\",\", 2)\n",
    "        if data[0] != \"party_set\":\n",
    "            break\n",
    "        cards.update({data[1]: \"r\"})"
   ]
  },
  {
   "cell_type": "code",
   "execution_count": 20,
   "id": "a76e0d35-0c1e-473d-8dd3-4ebe24be4fc5",
   "metadata": {},
   "outputs": [
    {
     "name": "stdout",
     "output_type": "stream",
     "text": [
      "768\n"
     ]
    }
   ],
   "source": [
    "from sentence_transformers import SentenceTransformer\n",
    "import numpy as np\n",
    "\n",
    "# List of models https://sbert.net/docs/sentence_transformer/pretrained_models.html\n",
    "model = SentenceTransformer('sentence-transformers/all-mpnet-base-v2')\n",
    "embeddings = model.encode(list(cards.keys()))\n",
    "\n",
    "embeddings = embeddings / np.linalg.norm(embeddings, axis=1, keepdims=True)"
   ]
  },
  {
   "cell_type": "code",
   "execution_count": 14,
   "id": "50d443ee-ea2a-4041-87ce-c3fe7cc1727e",
   "metadata": {},
   "outputs": [
    {
     "name": "stdout",
     "output_type": "stream",
     "text": [
      "1/100\n",
      "2/100\n",
      "3/100\n",
      "4/100\n",
      "5/100\n",
      "6/100\n",
      "7/100\n",
      "8/100\n",
      "9/100\n",
      "10/100\n",
      "11/100\n",
      "12/100\n",
      "13/100\n",
      "14/100\n",
      "15/100\n",
      "16/100\n",
      "17/100\n",
      "18/100\n",
      "19/100\n",
      "20/100\n",
      "21/100\n",
      "22/100\n",
      "23/100\n",
      "24/100\n",
      "25/100\n",
      "26/100\n",
      "27/100\n",
      "28/100\n",
      "29/100\n",
      "30/100\n",
      "31/100\n",
      "32/100\n",
      "33/100\n",
      "34/100\n",
      "35/100\n",
      "36/100\n",
      "37/100\n",
      "38/100\n",
      "39/100\n",
      "40/100\n",
      "41/100\n",
      "42/100\n",
      "43/100\n",
      "44/100\n",
      "45/100\n",
      "46/100\n",
      "47/100\n",
      "48/100\n",
      "49/100\n",
      "50/100\n",
      "51/100\n",
      "52/100\n",
      "53/100\n",
      "54/100\n",
      "55/100\n",
      "56/100\n",
      "57/100\n",
      "58/100\n",
      "59/100\n",
      "60/100\n",
      "61/100\n",
      "62/100\n",
      "63/100\n",
      "64/100\n",
      "65/100\n",
      "66/100\n",
      "67/100\n",
      "68/100\n",
      "69/100\n",
      "70/100\n",
      "71/100\n",
      "72/100\n",
      "73/100\n",
      "74/100\n",
      "75/100\n",
      "76/100\n",
      "77/100\n",
      "78/100\n",
      "79/100\n",
      "80/100\n",
      "81/100\n",
      "82/100\n",
      "83/100\n",
      "84/100\n",
      "85/100\n",
      "86/100\n",
      "87/100\n",
      "88/100\n",
      "89/100\n",
      "90/100\n",
      "91/100\n",
      "92/100\n",
      "93/100\n",
      "94/100\n",
      "95/100\n",
      "96/100\n",
      "97/100\n",
      "98/100\n",
      "99/100\n",
      "100/100\n"
     ]
    }
   ],
   "source": [
    "from sklearn.cluster import KMeans\n",
    "from sklearn.metrics import silhouette_score\n",
    "from sklearn.decomposition import PCA\n",
    "import matplotlib.pyplot as plt\n",
    "\n",
    "\n",
    "n_clusters = [i for i in range(2, 51)]\n",
    "inertia = []\n",
    "for k in n_clusters:\n",
    "    kmeans = KMeans(n_clusters=k).fit(embeddings)\n",
    "    inertia.append(kmeans.inertia_)\n",
    "\n",
    "silhouette_scores = {i: 0 for i in range(2, 51)}\n",
    "# This loop will take some time\n",
    "for i in range(1, 101):\n",
    "    print(f\"Progress: {i}/100 Clusters\")\n",
    "    for k in n_clusters:\n",
    "        kmeans = KMeans(n_clusters=k).fit(embeddings)\n",
    "        classes = kmeans.predict(embeddings)\n",
    "    \n",
    "        silhouette_avg = silhouette_score(embeddings, classes)\n",
    "        silhouette_scores[k] += silhouette_avg\n",
    "\n",
    "plt.plot(n_clusters, inertia, marker='o')\n",
    "plt.show()"
   ]
  },
  {
   "cell_type": "code",
   "execution_count": 15,
   "id": "58887a1a-ce35-44be-a4c1-758e7d062eda",
   "metadata": {},
   "outputs": [
    {
     "name": "stdout",
     "output_type": "stream",
     "text": [
      "{3: 4.854347372427583, 4: 4.707429088652134, 5: 4.466606870293617, 6: 4.327559135854244, 7: 4.079820644110441, 8: 3.8286870419979095, 2: 3.7473600171506405, 9: 3.679956041276455, 29: 3.584816426038742, 32: 3.57681885920465, 28: 3.5762455463409424, 36: 3.5690732579678297, 10: 3.566649779677391, 34: 3.5620897859334946, 30: 3.561174999922514, 42: 3.556453198194504, 26: 3.5535891838371754, 44: 3.5413200687617064, 39: 3.5408919379115105, 38: 3.5374917406588793, 35: 3.5352072063833475, 31: 3.5345966573804617, 40: 3.532359726727009, 46: 3.528846127912402, 37: 3.527445347979665, 27: 3.5272020678967237, 25: 3.52539904974401, 41: 3.5200031772255898, 24: 3.516716603189707, 33: 3.5164264887571335, 49: 3.501890229061246, 23: 3.5006607845425606, 45: 3.496677588671446, 22: 3.4863578099757433, 21: 3.4851996041834354, 47: 3.4817261397838593, 48: 3.4782110676169395, 20: 3.4745741486549377, 50: 3.4733806271106005, 43: 3.471937669441104, 11: 3.432603571563959, 18: 3.430611740797758, 19: 3.4224457629024982, 16: 3.39942929148674, 14: 3.3969738725572824, 12: 3.3954957462847233, 15: 3.39469794370234, 17: 3.3920662589371204, 13: 3.324836188927293}\n"
     ]
    }
   ],
   "source": [
    "sorted_silhouette_scores = sorted(silhouette_scores.items(), key=lambda x:x[1], reverse=True)\n",
    "sorted_silhouette_scores = dict(sorted_silhouette_scores)\n",
    "print(sorted_silhouette_scores)"
   ]
  },
  {
   "cell_type": "code",
   "execution_count": 16,
   "id": "a4186fba-14a1-4f1e-bbc5-76004548cdc8",
   "metadata": {},
   "outputs": [
    {
     "name": "stdout",
     "output_type": "stream",
     "text": [
      "{3: 0.04854347372427583, 4: 0.04707429088652134, 5: 0.04466606870293617, 6: 0.04327559135854244, 7: 0.04079820644110441, 8: 0.038286870419979094, 2: 0.0374736001715064, 9: 0.03679956041276455, 29: 0.03584816426038742, 32: 0.0357681885920465, 28: 0.03576245546340942, 36: 0.035690732579678294, 10: 0.03566649779677391, 34: 0.03562089785933495, 30: 0.03561174999922514, 42: 0.035564531981945036, 26: 0.035535891838371754, 44: 0.035413200687617066, 39: 0.035408919379115104, 38: 0.035374917406588796, 35: 0.03535207206383348, 31: 0.035345966573804614, 40: 0.035323597267270086, 46: 0.03528846127912402, 37: 0.03527445347979665, 27: 0.03527202067896724, 25: 0.0352539904974401, 41: 0.0352000317722559, 24: 0.03516716603189707, 33: 0.035164264887571337, 49: 0.03501890229061246, 23: 0.03500660784542561, 45: 0.03496677588671446, 22: 0.03486357809975743, 21: 0.03485199604183435, 47: 0.03481726139783859, 48: 0.034782110676169396, 20: 0.03474574148654938, 50: 0.034733806271106005, 43: 0.03471937669441104, 11: 0.034326035715639594, 18: 0.03430611740797758, 19: 0.034224457629024985, 16: 0.0339942929148674, 14: 0.03396973872557282, 12: 0.033954957462847234, 15: 0.0339469794370234, 17: 0.0339206625893712, 13: 0.03324836188927293}\n"
     ]
    }
   ],
   "source": [
    "avg_silhouette_scores = {}\n",
    "for clusters, score in sorted_silhouette_scores.items():\n",
    "    avg_silhouette_scores.update({clusters: score / 100})\n",
    "print(avg_silhouette_scores)"
   ]
  },
  {
   "cell_type": "code",
   "execution_count": null,
   "id": "d4645972-2fce-4c6a-8d1e-5fcadd98463f",
   "metadata": {},
   "outputs": [],
   "source": []
  }
 ],
 "metadata": {
  "kernelspec": {
   "display_name": "Python 3 (ipykernel)",
   "language": "python",
   "name": "python3"
  },
  "language_info": {
   "codemirror_mode": {
    "name": "ipython",
    "version": 3
   },
   "file_extension": ".py",
   "mimetype": "text/x-python",
   "name": "python",
   "nbconvert_exporter": "python",
   "pygments_lexer": "ipython3",
   "version": "3.10.12"
  }
 },
 "nbformat": 4,
 "nbformat_minor": 5
}
